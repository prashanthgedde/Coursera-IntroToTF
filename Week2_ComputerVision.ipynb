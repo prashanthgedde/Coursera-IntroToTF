{
  "nbformat": 4,
  "nbformat_minor": 0,
  "metadata": {
    "colab": {
      "name": "Week2-ComputerVision.ipynb",
      "provenance": [],
      "authorship_tag": "ABX9TyPRELyYkDJNFPp7HDWURxBT",
      "include_colab_link": true
    },
    "kernelspec": {
      "name": "python3",
      "display_name": "Python 3"
    }
  },
  "cells": [
    {
      "cell_type": "markdown",
      "metadata": {
        "id": "view-in-github",
        "colab_type": "text"
      },
      "source": [
        "<a href=\"https://colab.research.google.com/github/prashanthgedde/Coursera-IntroToTF/blob/main/Week2_ComputerVision.ipynb\" target=\"_parent\"><img src=\"https://colab.research.google.com/assets/colab-badge.svg\" alt=\"Open In Colab\"/></a>"
      ]
    },
    {
      "cell_type": "markdown",
      "metadata": {
        "id": "EAufUDd041TG"
      },
      "source": [
        "# ComputerVision execise\n",
        "Loads Fashion MNIST data for identifying fashion objects"
      ]
    },
    {
      "cell_type": "code",
      "metadata": {
        "colab": {
          "base_uri": "https://localhost:8080/"
        },
        "id": "0735hGaF4QyU",
        "outputId": "dec761d7-9800-4ab0-900a-21b0a6a1b8ca"
      },
      "source": [
        "import tensorflow as tf\n",
        "print(tf.__version__)"
      ],
      "execution_count": 2,
      "outputs": [
        {
          "output_type": "stream",
          "text": [
            "2.4.0\n"
          ],
          "name": "stdout"
        }
      ]
    },
    {
      "cell_type": "code",
      "metadata": {
        "id": "pjaDWhbY5eHt"
      },
      "source": [
        "mnist = tf.keras.datasets.fashion_mnist"
      ],
      "execution_count": 3,
      "outputs": []
    },
    {
      "cell_type": "code",
      "metadata": {
        "id": "QOiQzGkw6GVO",
        "colab": {
          "base_uri": "https://localhost:8080/"
        },
        "outputId": "e9f37ba2-36d1-4ab1-ee42-8bbee112e20f"
      },
      "source": [
        "(training_images, training_labels), (test_images, test_labels) = mnist.load_data()"
      ],
      "execution_count": 4,
      "outputs": [
        {
          "output_type": "stream",
          "text": [
            "Downloading data from https://storage.googleapis.com/tensorflow/tf-keras-datasets/train-labels-idx1-ubyte.gz\n",
            "32768/29515 [=================================] - 0s 0us/step\n",
            "Downloading data from https://storage.googleapis.com/tensorflow/tf-keras-datasets/train-images-idx3-ubyte.gz\n",
            "26427392/26421880 [==============================] - 0s 0us/step\n",
            "Downloading data from https://storage.googleapis.com/tensorflow/tf-keras-datasets/t10k-labels-idx1-ubyte.gz\n",
            "8192/5148 [===============================================] - 0s 0us/step\n",
            "Downloading data from https://storage.googleapis.com/tensorflow/tf-keras-datasets/t10k-images-idx3-ubyte.gz\n",
            "4423680/4422102 [==============================] - 0s 0us/step\n"
          ],
          "name": "stdout"
        }
      ]
    },
    {
      "cell_type": "code",
      "metadata": {
        "colab": {
          "base_uri": "https://localhost:8080/",
          "height": 758
        },
        "id": "NYsVxXhC6QS-",
        "outputId": "15130123-fdd6-4dd5-d5cf-6dbddce0de68"
      },
      "source": [
        "import numpy as np\n",
        "np.set_printoptions(linewidth=200)\n",
        "import matplotlib.pyplot as plt\n",
        "plt.imshow(training_images[52])\n",
        "print(training_labels[52])\n",
        "print(training_images[52])"
      ],
      "execution_count": 5,
      "outputs": [
        {
          "output_type": "stream",
          "text": [
            "7\n",
            "[[  0   0   0   0   0   0   0   0   0   0   0   0   0   0   0   0   0   0   0   0   0   0   0   0   0   0   0   0]\n",
            " [  0   0   0   0   0   0   0   0   0   0   0   0   0   0   0   0   0   0   0   0   0   0   0   0   0   0   0   0]\n",
            " [  0   0   0   0   0   0   0   0   0   0   0   0   0   0   0   0   0   0   0   0   0   0   0   0   0   0   0   0]\n",
            " [  0   0   0   0   0   0   0   0   0   0   0   0   0   0   0   0   0   0   0   0   0   0   0   0   0   0   0   0]\n",
            " [  0   0   0   0   0   0   0   0   0   0   0   0   0   0   0   0   0   0   0   0   0   0   0   0   0   0   0   0]\n",
            " [  0   0   0   0   0   0   0   0   0   0   0   0   0   0   0   0   0   0   0   0   0   0   0   0   0   0   0   0]\n",
            " [  0   0   0   0   0   0   0   0   0   0   0   0   0   0   0   0   0   0   0   0   0   0   0   0   0   0   0   0]\n",
            " [  0   0   0   0   0   0   0   0   0   0   0   0   0   0   0   0   0   0   0   0   0   0   0   0   0   0   0   0]\n",
            " [  0   0   0   0   0   0   0   0   2   0   2   1   0   0   0  31  90   0   0   0   1   0   0   0   0   0   0   0]\n",
            " [  0   0   0   0   0   0   0   0   0   2   0   0   0 128  82  61 210 126   0   0   0   0   1   0  37  42   3   0]\n",
            " [  0   0   0   0   0   0   0   0   0   0   2 115 165 163 194 177 154 163 170   0   0   0   0  37  79  55  36   0]\n",
            " [  0   0   0   0   0   0   0   0   0  57 172 172 170 178 161 177 191 190 206  86   0   0   0  37   0  12  41   0]\n",
            " [  1   0   0   2   4   0   0   0 106 177 145 162 131 170 221 228 206 225 200 195 175 133 127 115  22  93 193   0]\n",
            " [  1   1   0   0   0   0   0  83 154 160 173 171 222 238 212 162 139 127 135 149 180 208 206 203 196 197 213  36]\n",
            " [  0   0   0   0  26  66 152 170 172 184 200 209 186 155 158 171 195 201 173 150 157 143 145 179 212 214 225  43]\n",
            " [  0  78 137 144 167 166 152 168 150 138 153 151 150 167 186 181 175 188 210 195 171 172 208 222 219 215 233  60]\n",
            " [ 58 149 137 136 115 122 145 151 147 153 153 168 171 174 164 175 194 185 188 186 152 196 228 223 224 232 237  63]\n",
            " [144 174 167 174 170 157 135 146 153 163 162 152 161 173 181 189 201 217 227 193 213 255 236 229 217 211 197   0]\n",
            " [ 73 163 122 151 185 214 221 225 228 227 225 225 227 231 232 231 203 172 158 128 107 104  78  46  25   2  22   0]\n",
            " [  0  99 148  89  64  53  53  71  93  95  95  95  82  64  43  24  20  18  25  26  31  40  45  66  88 105 148  86]\n",
            " [  0   0   0  70 101 131 130 109  91  91 107 112 107 119 110 100 104 111 106  99  88  83  82  80  77  59   6   0]\n",
            " [  0   0   0   0   0   0   0   0   0   0   0   0   0   0   0   0   0   0   0   0   0   0   0   0   0   0   0   0]\n",
            " [  0   0   0   0   0   0   0   0   0   0   0   0   0   0   0   0   0   0   0   0   0   0   0   0   0   0   0   0]\n",
            " [  0   0   0   0   0   0   0   0   0   0   0   0   0   0   0   0   0   0   0   0   0   0   0   0   0   0   0   0]\n",
            " [  0   0   0   0   0   0   0   0   0   0   0   0   0   0   0   0   0   0   0   0   0   0   0   0   0   0   0   0]\n",
            " [  0   0   0   0   0   0   0   0   0   0   0   0   0   0   0   0   0   0   0   0   0   0   0   0   0   0   0   0]\n",
            " [  0   0   0   0   0   0   0   0   0   0   0   0   0   0   0   0   0   0   0   0   0   0   0   0   0   0   0   0]\n",
            " [  0   0   0   0   0   0   0   0   0   0   0   0   0   0   0   0   0   0   0   0   0   0   0   0   0   0   0   0]]\n"
          ],
          "name": "stdout"
        },
        {
          "output_type": "display_data",
          "data": {
            "image/png": "[encoded data removed]",
            "text/plain": [
              "<Figure size 432x288 with 1 Axes>"
            ]
          },
          "metadata": {
            "tags": [],
            "needs_background": "light"
          }
        }
      ]
    },
    {
      "cell_type": "markdown",
      "metadata": {
        "id": "I1yWWprC8CRb"
      },
      "source": [
        "All of the values in the number are between 0 and 255.\n",
        "It's easier if we treat all values as between 0 and 1, a process called 'normalizing'."
      ]
    },
    {
      "cell_type": "code",
      "metadata": {
        "colab": {
          "base_uri": "https://localhost:8080/"
        },
        "id": "dtsz2rJp8A7N",
        "outputId": "bd2faee3-68ae-4229-a5ae-2d567fb30064"
      },
      "source": [
        "print(training_images[1])\n",
        "print(training_images[1]/255)"
      ],
      "execution_count": 6,
      "outputs": [
        {
          "output_type": "stream",
          "text": [
            "[[  0   0   0   0   0   1   0   0   0   0  41 188 103  54  48  43  87 168 133  16   0   0   0   0   0   0   0   0]\n",
            " [  0   0   0   1   0   0   0  49 136 219 216 228 236 255 255 255 255 217 215 254 231 160  45   0   0   0   0   0]\n",
            " [  0   0   0   0   0  14 176 222 224 212 203 198 196 200 215 204 202 201 201 201 209 218 224 164   0   0   0   0]\n",
            " [  0   0   0   0   0 188 219 200 198 202 198 199 199 201 196 198 198 200 200 200 200 201 200 225  41   0   0   0]\n",
            " [  0   0   0   0  51 219 199 203 203 212 238 248 250 245 249 246 247 252 248 235 207 203 203 222 140   0   0   0]\n",
            " [  0   0   0   0 116 226 206 204 207 204 101  75  47  73  48  50  45  51  63 113 222 202 206 220 224   0   0   0]\n",
            " [  0   0   0   0 200 222 209 203 215 200   0  70  98   0 103  59  68  71  49   0 219 206 214 210 250  38   0   0]\n",
            " [  0   0   0   0 247 218 212 210 215 214   0 254 243 139 255 174 251 255 205   0 215 217 214 208 220  95   0   0]\n",
            " [  0   0   0  45 226 214 214 215 224 205   0  42  35  60  16  17  12  13  70   0 189 216 212 206 212 156   0   0]\n",
            " [  0   0   0 164 235 214 211 220 216 201  52  71  89  94  83  78  70  76  92  87 206 207 222 213 219 208   0   0]\n",
            " [  0   0   0 106 187 223 237 248 211 198 252 250 248 245 248 252 253 250 252 239 201 212 225 215 193 113   0   0]\n",
            " [  0   0   0   0   0  17  54 159 222 193 208 192 197 200 200 200 200 201 203 195 210 165   0   0   0   0   0   0]\n",
            " [  0   0   0   0   0   0   0  47 225 192 214 203 206 204 204 205 206 204 212 197 218 107   0   0   0   0   0   0]\n",
            " [  0   0   0   0   1   6   0  46 212 195 212 202 206 205 204 205 206 204 212 200 218  91   0   3   1   0   0   0]\n",
            " [  0   0   0   0   0   1   0  11 197 199 205 202 205 206 204 205 207 204 205 205 218  77   0   5   0   0   0   0]\n",
            " [  0   0   0   0   0   3   0   2 191 198 201 205 206 205 205 206 209 206 199 209 219  74   0   5   0   0   0   0]\n",
            " [  0   0   0   0   0   2   0   0 188 197 200 207 207 204 207 207 210 208 198 207 221  72   0   4   0   0   0   0]\n",
            " [  0   0   0   0   0   2   0   0 215 198 203 206 208 205 207 207 210 208 200 202 222  75   0   4   0   0   0   0]\n",
            " [  0   0   0   0   0   1   0   0 212 198 209 206 209 206 208 207 211 206 205 198 221  80   0   3   0   0   0   0]\n",
            " [  0   0   0   0   0   1   0   0 204 201 205 208 207 205 211 205 210 210 209 195 221  96   0   3   0   0   0   0]\n",
            " [  0   0   0   0   0   1   0   0 202 201 205 209 207 205 213 206 210 209 210 194 217 105   0   2   0   0   0   0]\n",
            " [  0   0   0   0   0   1   0   0 204 204 205 208 207 205 215 207 210 208 211 193 213 115   0   2   0   0   0   0]\n",
            " [  0   0   0   0   0   0   0   0 204 207 207 208 206 206 215 210 210 207 212 195 210 118   0   2   0   0   0   0]\n",
            " [  0   0   0   0   0   1   0   0 198 208 208 208 204 207 212 212 210 207 211 196 207 121   0   1   0   0   0   0]\n",
            " [  0   0   0   0   0   1   0   0 198 210 207 208 206 209 213 212 211 207 210 197 207 124   0   1   0   0   0   0]\n",
            " [  0   0   0   0   0   0   0   0 172 210 203 201 199 204 207 205 204 201 205 197 206 127   0   0   0   0   0   0]\n",
            " [  0   0   0   0   0   0   0   0 188 221 214 234 236 238 244 244 244 240 243 214 224 162   0   2   0   0   0   0]\n",
            " [  0   0   0   0   0   1   0   0 139 146 130 135 135 137 125 124 125 121 119 114 130  76   0   0   0   0   0   0]]\n",
            "[[0.         0.         0.         0.         0.         0.00392157 0.         0.         0.         0.         0.16078431 0.7372549  0.40392157 0.21176471 0.18823529 0.16862745 0.34117647\n",
            "  0.65882353 0.52156863 0.0627451  0.         0.         0.         0.         0.         0.         0.         0.        ]\n",
            " [0.         0.         0.         0.00392157 0.         0.         0.         0.19215686 0.53333333 0.85882353 0.84705882 0.89411765 0.9254902  1.         1.         1.         1.\n",
            "  0.85098039 0.84313725 0.99607843 0.90588235 0.62745098 0.17647059 0.         0.         0.         0.         0.        ]\n",
            " [0.         0.         0.         0.         0.         0.05490196 0.69019608 0.87058824 0.87843137 0.83137255 0.79607843 0.77647059 0.76862745 0.78431373 0.84313725 0.8        0.79215686\n",
            "  0.78823529 0.78823529 0.78823529 0.81960784 0.85490196 0.87843137 0.64313725 0.         0.         0.         0.        ]\n",
            " [0.         0.         0.         0.         0.         0.7372549  0.85882353 0.78431373 0.77647059 0.79215686 0.77647059 0.78039216 0.78039216 0.78823529 0.76862745 0.77647059 0.77647059\n",
            "  0.78431373 0.78431373 0.78431373 0.78431373 0.78823529 0.78431373 0.88235294 0.16078431 0.         0.         0.        ]\n",
            " [0.         0.         0.         0.         0.2        0.85882353 0.78039216 0.79607843 0.79607843 0.83137255 0.93333333 0.97254902 0.98039216 0.96078431 0.97647059 0.96470588 0.96862745\n",
            "  0.98823529 0.97254902 0.92156863 0.81176471 0.79607843 0.79607843 0.87058824 0.54901961 0.         0.         0.        ]\n",
            " [0.         0.         0.         0.         0.45490196 0.88627451 0.80784314 0.8        0.81176471 0.8        0.39607843 0.29411765 0.18431373 0.28627451 0.18823529 0.19607843 0.17647059\n",
            "  0.2        0.24705882 0.44313725 0.87058824 0.79215686 0.80784314 0.8627451  0.87843137 0.         0.         0.        ]\n",
            " [0.         0.         0.         0.         0.78431373 0.87058824 0.81960784 0.79607843 0.84313725 0.78431373 0.         0.2745098  0.38431373 0.         0.40392157 0.23137255 0.26666667\n",
            "  0.27843137 0.19215686 0.         0.85882353 0.80784314 0.83921569 0.82352941 0.98039216 0.14901961 0.         0.        ]\n",
            " [0.         0.         0.         0.         0.96862745 0.85490196 0.83137255 0.82352941 0.84313725 0.83921569 0.         0.99607843 0.95294118 0.54509804 1.         0.68235294 0.98431373\n",
            "  1.         0.80392157 0.         0.84313725 0.85098039 0.83921569 0.81568627 0.8627451  0.37254902 0.         0.        ]\n",
            " [0.         0.         0.         0.17647059 0.88627451 0.83921569 0.83921569 0.84313725 0.87843137 0.80392157 0.         0.16470588 0.1372549  0.23529412 0.0627451  0.06666667 0.04705882\n",
            "  0.05098039 0.2745098  0.         0.74117647 0.84705882 0.83137255 0.80784314 0.83137255 0.61176471 0.         0.        ]\n",
            " [0.         0.         0.         0.64313725 0.92156863 0.83921569 0.82745098 0.8627451  0.84705882 0.78823529 0.20392157 0.27843137 0.34901961 0.36862745 0.3254902  0.30588235 0.2745098\n",
            "  0.29803922 0.36078431 0.34117647 0.80784314 0.81176471 0.87058824 0.83529412 0.85882353 0.81568627 0.         0.        ]\n",
            " [0.         0.         0.         0.41568627 0.73333333 0.8745098  0.92941176 0.97254902 0.82745098 0.77647059 0.98823529 0.98039216 0.97254902 0.96078431 0.97254902 0.98823529 0.99215686\n",
            "  0.98039216 0.98823529 0.9372549  0.78823529 0.83137255 0.88235294 0.84313725 0.75686275 0.44313725 0.         0.        ]\n",
            " [0.         0.         0.         0.         0.         0.06666667 0.21176471 0.62352941 0.87058824 0.75686275 0.81568627 0.75294118 0.77254902 0.78431373 0.78431373 0.78431373 0.78431373\n",
            "  0.78823529 0.79607843 0.76470588 0.82352941 0.64705882 0.         0.         0.         0.         0.         0.        ]\n",
            " [0.         0.         0.         0.         0.         0.         0.         0.18431373 0.88235294 0.75294118 0.83921569 0.79607843 0.80784314 0.8        0.8        0.80392157 0.80784314\n",
            "  0.8        0.83137255 0.77254902 0.85490196 0.41960784 0.         0.         0.         0.         0.         0.        ]\n",
            " [0.         0.         0.         0.         0.00392157 0.02352941 0.         0.18039216 0.83137255 0.76470588 0.83137255 0.79215686 0.80784314 0.80392157 0.8        0.80392157 0.80784314\n",
            "  0.8        0.83137255 0.78431373 0.85490196 0.35686275 0.         0.01176471 0.00392157 0.         0.         0.        ]\n",
            " [0.         0.         0.         0.         0.         0.00392157 0.         0.04313725 0.77254902 0.78039216 0.80392157 0.79215686 0.80392157 0.80784314 0.8        0.80392157 0.81176471\n",
            "  0.8        0.80392157 0.80392157 0.85490196 0.30196078 0.         0.01960784 0.         0.         0.         0.        ]\n",
            " [0.         0.         0.         0.         0.         0.01176471 0.         0.00784314 0.74901961 0.77647059 0.78823529 0.80392157 0.80784314 0.80392157 0.80392157 0.80784314 0.81960784\n",
            "  0.80784314 0.78039216 0.81960784 0.85882353 0.29019608 0.         0.01960784 0.         0.         0.         0.        ]\n",
            " [0.         0.         0.         0.         0.         0.00784314 0.         0.         0.7372549  0.77254902 0.78431373 0.81176471 0.81176471 0.8        0.81176471 0.81176471 0.82352941\n",
            "  0.81568627 0.77647059 0.81176471 0.86666667 0.28235294 0.         0.01568627 0.         0.         0.         0.        ]\n",
            " [0.         0.         0.         0.         0.         0.00784314 0.         0.         0.84313725 0.77647059 0.79607843 0.80784314 0.81568627 0.80392157 0.81176471 0.81176471 0.82352941\n",
            "  0.81568627 0.78431373 0.79215686 0.87058824 0.29411765 0.         0.01568627 0.         0.         0.         0.        ]\n",
            " [0.         0.         0.         0.         0.         0.00392157 0.         0.         0.83137255 0.77647059 0.81960784 0.80784314 0.81960784 0.80784314 0.81568627 0.81176471 0.82745098\n",
            "  0.80784314 0.80392157 0.77647059 0.86666667 0.31372549 0.         0.01176471 0.         0.         0.         0.        ]\n",
            " [0.         0.         0.         0.         0.         0.00392157 0.         0.         0.8        0.78823529 0.80392157 0.81568627 0.81176471 0.80392157 0.82745098 0.80392157 0.82352941\n",
            "  0.82352941 0.81960784 0.76470588 0.86666667 0.37647059 0.         0.01176471 0.         0.         0.         0.        ]\n",
            " [0.         0.         0.         0.         0.         0.00392157 0.         0.         0.79215686 0.78823529 0.80392157 0.81960784 0.81176471 0.80392157 0.83529412 0.80784314 0.82352941\n",
            "  0.81960784 0.82352941 0.76078431 0.85098039 0.41176471 0.         0.00784314 0.         0.         0.         0.        ]\n",
            " [0.         0.         0.         0.         0.         0.00392157 0.         0.         0.8        0.8        0.80392157 0.81568627 0.81176471 0.80392157 0.84313725 0.81176471 0.82352941\n",
            "  0.81568627 0.82745098 0.75686275 0.83529412 0.45098039 0.         0.00784314 0.         0.         0.         0.        ]\n",
            " [0.         0.         0.         0.         0.         0.         0.         0.         0.8        0.81176471 0.81176471 0.81568627 0.80784314 0.80784314 0.84313725 0.82352941 0.82352941\n",
            "  0.81176471 0.83137255 0.76470588 0.82352941 0.4627451  0.         0.00784314 0.         0.         0.         0.        ]\n",
            " [0.         0.         0.         0.         0.         0.00392157 0.         0.         0.77647059 0.81568627 0.81568627 0.81568627 0.8        0.81176471 0.83137255 0.83137255 0.82352941\n",
            "  0.81176471 0.82745098 0.76862745 0.81176471 0.4745098  0.         0.00392157 0.         0.         0.         0.        ]\n",
            " [0.         0.         0.         0.         0.         0.00392157 0.         0.         0.77647059 0.82352941 0.81176471 0.81568627 0.80784314 0.81960784 0.83529412 0.83137255 0.82745098\n",
            "  0.81176471 0.82352941 0.77254902 0.81176471 0.48627451 0.         0.00392157 0.         0.         0.         0.        ]\n",
            " [0.         0.         0.         0.         0.         0.         0.         0.         0.6745098  0.82352941 0.79607843 0.78823529 0.78039216 0.8        0.81176471 0.80392157 0.8\n",
            "  0.78823529 0.80392157 0.77254902 0.80784314 0.49803922 0.         0.         0.         0.         0.         0.        ]\n",
            " [0.         0.         0.         0.         0.         0.         0.         0.         0.7372549  0.86666667 0.83921569 0.91764706 0.9254902  0.93333333 0.95686275 0.95686275 0.95686275\n",
            "  0.94117647 0.95294118 0.83921569 0.87843137 0.63529412 0.         0.00784314 0.         0.         0.         0.        ]\n",
            " [0.         0.         0.         0.         0.         0.00392157 0.         0.         0.54509804 0.57254902 0.50980392 0.52941176 0.52941176 0.5372549  0.49019608 0.48627451 0.49019608\n",
            "  0.4745098  0.46666667 0.44705882 0.50980392 0.29803922 0.         0.         0.         0.         0.         0.        ]]\n"
          ],
          "name": "stdout"
        }
      ]
    },
    {
      "cell_type": "code",
      "metadata": {
        "id": "Og2LZ5gH8x6I"
      },
      "source": [
        "training_images  = training_images / 255.0\n",
        "test_images = test_images / 255.0"
      ],
      "execution_count": 7,
      "outputs": []
    },
    {
      "cell_type": "markdown",
      "metadata": {
        "id": "YbdmUYFW88cb"
      },
      "source": [
        "Design the model now using keras api"
      ]
    },
    {
      "cell_type": "code",
      "metadata": {
        "id": "CmmhEh-681Rp"
      },
      "source": [
        "model = tf.keras.models.Sequential([tf.keras.layers.Flatten(), \n",
        "                                    tf.keras.layers.Dense(512, activation=tf.nn.relu), \n",
        "                                    tf.keras.layers.Dense(10, activation=tf.nn.softmax)])"
      ],
      "execution_count": 25,
      "outputs": []
    },
    {
      "cell_type": "markdown",
      "metadata": {
        "id": "kVgvH7rM9et3"
      },
      "source": [
        "**Sequential**: That defines a SEQUENCE of layers in the neural network\n",
        "\n",
        "**Flatten**: Remember earlier where our images were a square, when you printed them out? Flatten just takes that square and turns it into a 1 dimensional set.\n",
        "\n",
        "**Dense**: Adds a layer of neurons\n",
        "\n",
        "Each layer of neurons need an **activation function** to tell them what to do. There's lots of options, but just use these for now. \n",
        "\n",
        "**Relu** effectively means \"If X>0 return X, else return 0\" -- so what it does it it only passes values 0 or greater to the next layer in the network.\n",
        "\n",
        "**Softmax** takes a set of values, and effectively picks the biggest one, so, for example, if the output of the last layer looks like [0.1, 0.1, 0.05, 0.1, 9.5, 0.1, 0.05, 0.05, 0.05], it saves you from fishing through it looking for the biggest value, and turns it into [0,0,0,0,1,0,0,0,0] -- The goal is to save a lot of coding!"
      ]
    },
    {
      "cell_type": "code",
      "metadata": {
        "colab": {
          "base_uri": "https://localhost:8080/"
        },
        "id": "jdiRS7mZ87Zm",
        "outputId": "08b69a88-7909-468d-8cd6-af9a8060d0c7"
      },
      "source": [
        "model.compile(optimizer = tf.optimizers.Adam(),\n",
        "              loss = 'sparse_categorical_crossentropy',\n",
        "              metrics=['accuracy'])\n",
        "\n",
        "model.fit(training_images, training_labels, epochs=15)"
      ],
      "execution_count": 26,
      "outputs": [
        {
          "output_type": "stream",
          "text": [
            "Epoch 1/15\n",
            "1875/1875 [==============================] - 8s 4ms/step - loss: 0.5852 - accuracy: 0.7942\n",
            "Epoch 2/15\n",
            "1875/1875 [==============================] - 7s 4ms/step - loss: 0.3692 - accuracy: 0.8629\n",
            "Epoch 3/15\n",
            "1875/1875 [==============================] - 7s 4ms/step - loss: 0.3276 - accuracy: 0.8791\n",
            "Epoch 4/15\n",
            "1875/1875 [==============================] - 7s 4ms/step - loss: 0.2955 - accuracy: 0.8917\n",
            "Epoch 5/15\n",
            "1875/1875 [==============================] - 7s 4ms/step - loss: 0.2785 - accuracy: 0.8967\n",
            "Epoch 6/15\n",
            "1875/1875 [==============================] - 7s 4ms/step - loss: 0.2674 - accuracy: 0.9005\n",
            "Epoch 7/15\n",
            "1875/1875 [==============================] - 7s 4ms/step - loss: 0.2494 - accuracy: 0.9054\n",
            "Epoch 8/15\n",
            "1875/1875 [==============================] - 7s 4ms/step - loss: 0.2413 - accuracy: 0.9108\n",
            "Epoch 9/15\n",
            "1875/1875 [==============================] - 7s 4ms/step - loss: 0.2308 - accuracy: 0.9138\n",
            "Epoch 10/15\n",
            "1875/1875 [==============================] - 7s 4ms/step - loss: 0.2210 - accuracy: 0.9166\n",
            "Epoch 11/15\n",
            "1875/1875 [==============================] - 7s 4ms/step - loss: 0.2099 - accuracy: 0.9217\n",
            "Epoch 12/15\n",
            "1875/1875 [==============================] - 7s 4ms/step - loss: 0.2006 - accuracy: 0.9255\n",
            "Epoch 13/15\n",
            "1875/1875 [==============================] - 7s 4ms/step - loss: 0.1983 - accuracy: 0.9248\n",
            "Epoch 14/15\n",
            "1875/1875 [==============================] - 7s 4ms/step - loss: 0.1855 - accuracy: 0.9278\n",
            "Epoch 15/15\n",
            "1875/1875 [==============================] - 7s 4ms/step - loss: 0.1817 - accuracy: 0.9316\n"
          ],
          "name": "stdout"
        },
        {
          "output_type": "execute_result",
          "data": {
            "text/plain": [
              "<tensorflow.python.keras.callbacks.History at 0x7fbf1c817550>"
            ]
          },
          "metadata": {
            "tags": []
          },
          "execution_count": 26
        }
      ]
    },
    {
      "cell_type": "code",
      "metadata": {
        "colab": {
          "base_uri": "https://localhost:8080/"
        },
        "id": "u8iku5Kf-fJI",
        "outputId": "f1e144c8-1cb0-4602-e09b-e4691c093331"
      },
      "source": [
        "model.evaluate(test_images, test_labels)"
      ],
      "execution_count": 23,
      "outputs": [
        {
          "output_type": "stream",
          "text": [
            "313/313 [==============================] - 1s 2ms/step - loss: 0.3528 - accuracy: 0.8863\n"
          ],
          "name": "stdout"
        },
        {
          "output_type": "execute_result",
          "data": {
            "text/plain": [
              "[0.3528279662132263, 0.8863000273704529]"
            ]
          },
          "metadata": {
            "tags": []
          },
          "execution_count": 23
        }
      ]
    },
    {
      "cell_type": "code",
      "metadata": {
        "colab": {
          "base_uri": "https://localhost:8080/"
        },
        "id": "VmBFslfrA8-2",
        "outputId": "2ef5210f-5f2c-4b9e-c05f-30415e3646c1"
      },
      "source": [
        "classifications = model.predict(test_images)\n",
        "\n",
        "print(classifications[0])\n",
        "\n",
        "int_array = (classifications*100).astype(int)\n",
        "\n",
        "print(int_array[0])"
      ],
      "execution_count": 24,
      "outputs": [
        {
          "output_type": "stream",
          "text": [
            "[1.1682960e-08 2.1670008e-08 4.2215174e-09 9.3956093e-11 1.9760698e-09 6.8500144e-06 1.1287540e-09 6.6595767e-03 1.0136803e-09 9.9333352e-01]\n",
            "[ 0  0  0  0  0  0  0  0  0 99]\n"
          ],
          "name": "stdout"
        }
      ]
    },
    {
      "cell_type": "code",
      "metadata": {
        "colab": {
          "base_uri": "https://localhost:8080/",
          "height": 299
        },
        "id": "tI2mlw4zBMtu",
        "outputId": "caf12453-7d5d-4809-9c89-7e8822634c80"
      },
      "source": [
        "print(test_labels)\n",
        "plt.imshow(test_images[0])"
      ],
      "execution_count": null,
      "outputs": [
        {
          "output_type": "stream",
          "text": [
            "9\n"
          ],
          "name": "stdout"
        },
        {
          "output_type": "execute_result",
          "data": {
            "text/plain": [
              "<matplotlib.image.AxesImage at 0x7f6bfe6920f0>"
            ]
          },
          "metadata": {
            "tags": []
          },
          "execution_count": 33
        },
        {
          "output_type": "display_data",
          "data": {
            "image/png": "[encoded data removed]",
            "text/plain": [
              "<Figure size 432x288 with 1 Axes>"
            ]
          },
          "metadata": {
            "tags": [],
            "needs_background": "light"
          }
        }
      ]
    }
  ]
}